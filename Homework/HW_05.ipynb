{
 "cells": [
  {
   "cell_type": "code",
   "execution_count": 61,
   "id": "ceaa20bc-a40f-4832-be5f-ac6dc5cf1253",
   "metadata": {
    "tags": []
   },
   "outputs": [],
   "source": [
    "import matplotlib.pyplot as plt\n",
    "import numpy as np\n",
    "\n",
    "def f1(x1,x2):\n",
    "    return (x1*x1+x1*x2-10.)\n",
    "\n",
    "def f2(x1,x2):\n",
    "    return (x2+3*x1*x2*x2-57)\n",
    "\n",
    "def f1x1(x1, x2, dx):\n",
    "    #a\n",
    "    #return (f1(x1+dx/2, x2) - f1(x1-dx/2, x2))/dx\n",
    "    return 2*x1+x2\n",
    "def f1x2(x1, x2, dx):\n",
    "    #b\n",
    "    #return (f1(x1, x2+dx/2) - f1(x1, x2-dx/2))/dx\n",
    "    return x1\n",
    "def f2x1(x1,x2,  dx):\n",
    "    #c\n",
    "    #return (f2(x1+dx/2, x2) - f2(x1-dx/2, x2))/dx\n",
    "    return 3*x2*x2\n",
    "def f2x2(x1,x2,  dx):\n",
    "    #d\n",
    "    #return (f2(x1, x2+dx/2) - f2(x1, x2+dx/2))/dx\n",
    "    return 1+ 6*x1*x2\n",
    "\n",
    "def dx1(f1,f2,a,b,c,d,x1,x2):\n",
    "    return (b*f2(x1, x2)-d*f1(x1,x2))/(a*d-b*c)\n",
    "\n",
    "def dx2(f1,f2,a,b,c,d,x1,x2):\n",
    "    return (c*f1(x1,x2) - a*f2(x1,x2))/(a*d-b*c)\n",
    "\n",
    "def newtonraph2d(x01, x02, nmax, eps, f1, f2, dx = 2e-4):\n",
    "    for ix in range(0, nmax):\n",
    "        #calculations for iteration\n",
    "        a = f1x1(x01, x02, dx)\n",
    "        b = f1x2(x01, x02, dx)\n",
    "        c = f2x1(x01, x02, dx)\n",
    "        d = f2x2(x01, x02, dx)\n",
    "        \n",
    "        dtx1 = dx1(f1, f2, a, b, c, d, x01, x02)\n",
    "        dtx2 = dx2(f1, f2, a, b, c, d, x01, x02)\n",
    "        x01 = x01 + dtx1\n",
    "        x02 = x02 + dtx2\n",
    "        \n",
    "        print(x01, x02)\n",
    "        print (f1(x01, x02), f2(x01, x02)) \n",
    "        print('\\n')\n",
    "        if (abs(f1(x01, x02)) < eps and abs(f2(x01, x02)) < eps):\n",
    "            print(\"Root of f1 is at\",x01,\" after \",ix,\" iterations, with a precision of \",abs(f1(x01,x02)))\n",
    "            print(\"Root of f2 is at\",x02,\" after \",ix,\" iterations, with a precision of \",abs(f2(x01, x02)))\n",
    "            break\n",
    "    \n",
    "    return x01, x02\n"
   ]
  },
  {
   "cell_type": "code",
   "execution_count": 64,
   "id": "d3e81e6a-dd24-4a70-8870-73d4f4b3362c",
   "metadata": {},
   "outputs": [
    {
     "name": "stdout",
     "output_type": "stream",
     "text": [
      "2.2 4.2\n",
      "4.080000000000002 63.624000000000024\n",
      "\n",
      "\n",
      "1.9552515177797052 3.3021986123156983\n",
      "0.27963734652014693 10.265411085958931\n",
      "\n",
      "\n",
      "1.9954851362238166 3.0107627395441776\n",
      "-0.010106775652911182 0.2761388301414911\n",
      "\n",
      "\n",
      "1.9999966835246372 2.999997500741619\n",
      "-2.8213825014944405e-05 -0.0001820172082176441\n",
      "\n",
      "\n",
      "2.00000000000166 3.000000000003834\n",
      "1.928768256220792e-11 1.8667378753889352e-10\n",
      "\n",
      "\n",
      "2.0 3.0\n",
      "0.0 0.0\n",
      "\n",
      "\n",
      "Root of f1 is at 2.0  after  5  iterations, with a precision of  0.0\n",
      "Root of f2 is at 3.0  after  5  iterations, with a precision of  0.0\n",
      "2.0 3.0\n"
     ]
    }
   ],
   "source": [
    "esp = 1e-12\n",
    "dx = 2e-4\n",
    "nmax = 100\n",
    "x1 = 1\n",
    "x2 = 2\n",
    "\n",
    "root1, root2 = newtonraph2d(x1, x2, nmax, esp, f1, f2, dx)\n",
    "print(root1, root2)"
   ]
  },
  {
   "cell_type": "code",
   "execution_count": null,
   "id": "9e6a4d94-7f01-4595-b4f8-88447e63c7f5",
   "metadata": {},
   "outputs": [],
   "source": []
  }
 ],
 "metadata": {
  "kernelspec": {
   "display_name": "Python 3 (ipykernel)",
   "language": "python",
   "name": "python3"
  },
  "language_info": {
   "codemirror_mode": {
    "name": "ipython",
    "version": 3
   },
   "file_extension": ".py",
   "mimetype": "text/x-python",
   "name": "python",
   "nbconvert_exporter": "python",
   "pygments_lexer": "ipython3",
   "version": "3.9.12"
  }
 },
 "nbformat": 4,
 "nbformat_minor": 5
}
